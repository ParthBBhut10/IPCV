{
 "cells": [
  {
   "cell_type": "markdown",
   "id": "ae5aca09",
   "metadata": {},
   "source": [
    "To Perform Image Enhancement(SD) Point Processing Techniques: Digital Negative, Thresholding, Grey Level Slicing with & without background"
   ]
  },
  {
   "cell_type": "code",
   "execution_count": null,
   "id": "358a85ab",
   "metadata": {},
   "outputs": [],
   "source": [
    "import cv2 \n",
    "import numpy as np\n",
    "import matplotlib.pyplot as plt"
   ]
  },
  {
   "cell_type": "code",
   "execution_count": null,
   "id": "ef66d221",
   "metadata": {},
   "outputs": [],
   "source": [
    "image = cv2.imread('') "
   ]
  },
  {
   "cell_type": "code",
   "execution_count": null,
   "id": "8b9a2c6e",
   "metadata": {},
   "outputs": [],
   "source": [
    "img = cv2.cvtColor(image, cv2.COLOR_BGR2RGB)"
   ]
  },
  {
   "cell_type": "code",
   "execution_count": null,
   "id": "7ff4de15",
   "metadata": {},
   "outputs": [],
   "source": [
    "img.shape"
   ]
  },
  {
   "cell_type": "code",
   "execution_count": null,
   "id": "2f4a2b4e",
   "metadata": {},
   "outputs": [],
   "source": [
    "gray = cv2.imread('', 0)"
   ]
  },
  {
   "cell_type": "code",
   "execution_count": null,
   "id": "dcb5fc09",
   "metadata": {},
   "outputs": [],
   "source": [
    "colored_negative = abs(255-img)\n",
    "\n",
    "x,y=gray.shape\n",
    "gray_negative=np.zeros((x,y))\n",
    "for i in range(0,x):\n",
    "    for j in range(0,y):\n",
    "        gray_negative[i][j] = abs(255 - gray[i][j])"
   ]
  },
  {
   "cell_type": "code",
   "execution_count": null,
   "id": "082986ec",
   "metadata": {},
   "outputs": [],
   "source": [
    "imgs = [img, gray, colored_negative, gray_negative]\n",
    "title = ['coloured', 'gray', 'coloured-negative', 'gray-negative']\n",
    "\n",
    "\n",
    "plt.subplot(2, 2, 1)\n",
    "plt.title(title[0])\n",
    "plt.imshow(imgs[0])\n",
    "plt.xticks([])\n",
    "plt.yticks([])\n",
    "\n",
    "plt.subplot(2, 2, 2)\n",
    "plt.title(title[1])\n",
    "plt.imshow(imgs[1], cmap='gray')\n",
    "plt.xticks([])\n",
    "plt.yticks([])\n",
    "\n",
    "plt.subplot(2, 2, 3)\n",
    "plt.title(title[2])\n",
    "plt.imshow(imgs[2])\n",
    "plt.xticks([])\n",
    "plt.yticks([])\n",
    "\n",
    "plt.subplot(2, 2, 4)\n",
    "plt.title(title[3])\n",
    "plt.imshow(imgs[3], cmap='gray')\n",
    "plt.xticks([])\n",
    "plt.yticks([])\n",
    "\n",
    "plt.show()"
   ]
  },
  {
   "cell_type": "code",
   "execution_count": null,
   "id": "37ca30ec",
   "metadata": {},
   "outputs": [],
   "source": [
    "# Thresholding\n",
    "image = cv2.imread('gateway.jpg', 0)\n",
    "x,y=image.shape\n",
    "z=np.zeros((x,y))\n",
    "for i in range(0,x):\n",
    "    for j in range(0,y):\n",
    "        if(image[i][j]>50):\n",
    "            z[i][j]=255\n",
    "        else:\n",
    "            z[i][j]=0\n",
    "equ=np.hstack((image,z))\n",
    "plt.title('Thresholding')\n",
    "plt.imshow(equ,'gray')\n",
    "plt.show()"
   ]
  },
  {
   "cell_type": "code",
   "execution_count": null,
   "id": "488df46c",
   "metadata": {},
   "outputs": [],
   "source": [
    "# Gray Level Slicing \n",
    "import numpy as np\n",
    "image=cv2.imread('gateway.jpg',0)\n",
    "x,y=image.shape\n",
    "z=np.zeros((x,y))\n",
    "for i in range(0,x):\n",
    "    for j in range(0,y):\n",
    "        if(image[i][j]>50 and image[i][j]<150):\n",
    "            z[i][j]=255\n",
    "        else:\n",
    "            z[i][j]=image[i][j]\n",
    "equ=np.hstack((image,z))\n",
    "plt.title('Original/Graylevel slicing with background')\n",
    "plt.imshow(equ,'gray')\n",
    "plt.show()"
   ]
  },
  {
   "cell_type": "code",
   "execution_count": null,
   "id": "9786f45d",
   "metadata": {},
   "outputs": [],
   "source": [
    "# Gray Level Without Background\n",
    "image=cv2.imread('gateway.jpg',0)\n",
    "x,y=image.shape\n",
    "z=np.zeros((x,y))\n",
    "for i in range(0,x):\n",
    "    for j in range(0,y):\n",
    "        if(image[i][j]>50 and image[i][j]<150):\n",
    "            z[i][j]=255\n",
    "        else:\n",
    "            z[i][j]=0\n",
    "equ=np.hstack((image,z))\n",
    "plt.title('Original/Graylevel slicing without background')\n",
    "plt.imshow(equ,'gray')\n",
    "plt.show()"
   ]
  }
 ],
 "metadata": {
  "kernelspec": {
   "display_name": "Python 3 (ipykernel)",
   "language": "python",
   "name": "python3"
  },
  "language_info": {
   "codemirror_mode": {
    "name": "ipython",
    "version": 3
   },
   "file_extension": ".py",
   "mimetype": "text/x-python",
   "name": "python",
   "nbconvert_exporter": "python",
   "pygments_lexer": "ipython3",
   "version": "3.11.0"
  }
 },
 "nbformat": 4,
 "nbformat_minor": 5
}
